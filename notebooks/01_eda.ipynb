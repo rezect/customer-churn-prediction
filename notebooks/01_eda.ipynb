{
 "cells": [
  {
   "cell_type": "markdown",
   "id": "9599eba1",
   "metadata": {},
   "source": [
    "# About Dataset"
   ]
  },
  {
   "cell_type": "markdown",
   "id": "594a1411",
   "metadata": {},
   "source": [
    "### Context\n",
    "This dataset contains customer information from a telecommunications company, including details about their demographics, services subscribed, account information, and most importantly - whether they churned (left the company). Customer churn prediction is a critical business problem in the telecom industry, as acquiring new customers is typically more expensive than retaining existing ones.\n",
    "\n",
    "### Data Description\n",
    "The dataset contains 7043 customer records with 21 features, including the target variable.\n",
    "\n",
    "#### Feature Categories:\n",
    "\n",
    "**Demographic Information:**\n",
    "- `customerID`: Unique identifier for each customer\n",
    "- `gender`: Customer gender (Male, Female)\n",
    "- `SeniorCitizen`: Whether the customer is a senior citizen (1, 0)\n",
    "- `Partner`: Whether the customer has a partner (Yes, No)\n",
    "- `Dependents`: Whether the customer has dependents (Yes, No)\n",
    "\n",
    "**Service Information:**\n",
    "- `PhoneService`: Whether the customer has a phone service (Yes, No)\n",
    "- `MultipleLines`: Whether the customer has multiple lines (Yes, No, No phone service)\n",
    "- `InternetService`: Customer's internet service provider (DSL, Fiber optic, No)\n",
    "- `OnlineSecurity`: Whether the customer has online security (Yes, No, No internet service)\n",
    "- `OnlineBackup`: Whether the customer has online backup (Yes, No, No internet service)\n",
    "- `DeviceProtection`: Whether the customer has device protection (Yes, No, No internet service)\n",
    "- `TechSupport`: Whether the customer has tech support (Yes, No, No internet service)\n",
    "- `StreamingTV`: Whether the customer has streaming TV (Yes, No, No internet service)\n",
    "- `StreamingMovies`: Whether the customer has streaming movies (Yes, No, No internet service)\n",
    "\n",
    "**Account Information:**\n",
    "- `tenure`: Number of months the customer has stayed with the company\n",
    "- `Contract`: The contract term (Month-to-month, One year, Two year)\n",
    "- `PaperlessBilling`: Whether the customer has paperless billing (Yes, No)\n",
    "- `PaymentMethod`: Customer's payment method (Electronic check, Mailed check, Bank transfer, Credit card)\n",
    "- `MonthlyCharges`: The amount charged to the customer monthly\n",
    "- `TotalCharges`: The total amount charged to the customer\n",
    "\n",
    "**Target Variable:**\n",
    "- `Churn`: Whether the customer churned (Yes, No)\n",
    "\n",
    "### Business Problem\n",
    "The goal is to predict customer churn to enable proactive retention strategies. By identifying customers at high risk of leaving, the company can target them with special offers, improved service, or other retention tactics.\n",
    "\n",
    "### Data Characteristics\n",
    "- **Number of instances:** 7,043\n",
    "- **Number of features:** 21 (including target)\n",
    "- **Missing values:** Minimal (primarily in TotalCharges for new customers)\n",
    "- **Class distribution:** Imbalanced (approximately 73% No Churn, 27% Yes Churn)\n",
    "\n",
    "### Potential Challenges\n",
    "1. **Class imbalance** between churned and non-churned customers\n",
    "2. **Mixed data types** - numerical, categorical, and binary features\n",
    "3. **Correlated features** among service subscriptions\n",
    "4. **Data leakage** considerations - ensuring features are available at prediction time\n",
    "\n",
    "### Source\n",
    "This is a publicly available dataset commonly used for churn prediction modeling and can be found on platforms like Kaggle."
   ]
  },
  {
   "cell_type": "markdown",
   "id": "94778273",
   "metadata": {},
   "source": [
    "# Data Loading"
   ]
  },
  {
   "cell_type": "code",
   "execution_count": 403,
   "id": "5565ed47",
   "metadata": {},
   "outputs": [
    {
     "name": "stdout",
     "output_type": "stream",
     "text": [
      "Dataset URL: https://www.kaggle.com/datasets/blastchar/telco-customer-churn\n",
      "✅ Датaсет успешно скачан в папку: ../data/raw\n",
      "📁 Скачанные файлы: ['WA_Fn-UseC_-Telco-Customer-Churn.csv']\n",
      "📊 Размер датасета: (7043, 21)\n",
      "🎯 Целевая переменная 'Churn': {'No': 5174, 'Yes': 1869}\n"
     ]
    }
   ],
   "source": [
    "import os\n",
    "import zipfile\n",
    "import pandas as pd\n",
    "from kaggle.api.kaggle_api_extended import KaggleApi\n",
    "\n",
    "RND_SEED = 42\n",
    "\n",
    "def download_telco_churn_dataset(data_dir='data'):\n",
    "    \"\"\"\n",
    "    Скачивает датасет Telco Customer Churn с Kaggle\n",
    "    \"\"\"\n",
    "    # Создаем папку для данных, если её нет\n",
    "    os.makedirs(data_dir, exist_ok=True)\n",
    "    \n",
    "    try:\n",
    "        # Инициализируем Kaggle API\n",
    "        api = KaggleApi()\n",
    "        api.authenticate()\n",
    "        \n",
    "        # Скачиваем датасет\n",
    "        dataset_name = 'blastchar/telco-customer-churn'\n",
    "        api.dataset_download_files(dataset_name, path=data_dir, unzip=True)\n",
    "        \n",
    "        print(f\"✅ Датaсет успешно скачан в папку: {data_dir}\")\n",
    "        \n",
    "        # Проверяем скачанные файлы\n",
    "        files = os.listdir(data_dir)\n",
    "        print(f\"📁 Скачанные файлы: {files}\")\n",
    "        \n",
    "        # Загружаем данные для проверки\n",
    "        csv_file = [f for f in files if f.endswith('.csv')][0]\n",
    "        df = pd.read_csv(os.path.join(data_dir, csv_file))\n",
    "        print(f\"📊 Размер датасета: {df.shape}\")\n",
    "        print(f\"🎯 Целевая переменная 'Churn': {df['Churn'].value_counts().to_dict()}\")\n",
    "        \n",
    "        return df\n",
    "        \n",
    "    except Exception as e:\n",
    "        print(f\"❌ Ошибка при скачивании: {e}\")\n",
    "        return pd.DataFrame()\n",
    "\n",
    "if __name__ == \"__main__\":\n",
    "    telco = download_telco_churn_dataset('../data/raw')"
   ]
  },
  {
   "cell_type": "markdown",
   "id": "4d00caf9",
   "metadata": {},
   "source": [
    "# EDA"
   ]
  },
  {
   "cell_type": "markdown",
   "id": "05ba414b",
   "metadata": {},
   "source": [
    "## Посмотрим на общую картину"
   ]
  },
  {
   "cell_type": "code",
   "execution_count": 404,
   "id": "ec3d468d",
   "metadata": {},
   "outputs": [
    {
     "name": "stdout",
     "output_type": "stream",
     "text": [
      "<class 'pandas.core.frame.DataFrame'>\n",
      "RangeIndex: 7043 entries, 0 to 7042\n",
      "Data columns (total 21 columns):\n",
      " #   Column            Non-Null Count  Dtype  \n",
      "---  ------            --------------  -----  \n",
      " 0   customerID        7043 non-null   object \n",
      " 1   gender            7043 non-null   object \n",
      " 2   SeniorCitizen     7043 non-null   int64  \n",
      " 3   Partner           7043 non-null   object \n",
      " 4   Dependents        7043 non-null   object \n",
      " 5   tenure            7043 non-null   int64  \n",
      " 6   PhoneService      7043 non-null   object \n",
      " 7   MultipleLines     7043 non-null   object \n",
      " 8   InternetService   7043 non-null   object \n",
      " 9   OnlineSecurity    7043 non-null   object \n",
      " 10  OnlineBackup      7043 non-null   object \n",
      " 11  DeviceProtection  7043 non-null   object \n",
      " 12  TechSupport       7043 non-null   object \n",
      " 13  StreamingTV       7043 non-null   object \n",
      " 14  StreamingMovies   7043 non-null   object \n",
      " 15  Contract          7043 non-null   object \n",
      " 16  PaperlessBilling  7043 non-null   object \n",
      " 17  PaymentMethod     7043 non-null   object \n",
      " 18  MonthlyCharges    7043 non-null   float64\n",
      " 19  TotalCharges      7043 non-null   object \n",
      " 20  Churn             7043 non-null   object \n",
      "dtypes: float64(1), int64(2), object(18)\n",
      "memory usage: 1.1+ MB\n"
     ]
    }
   ],
   "source": [
    "telco.info()"
   ]
  },
  {
   "cell_type": "code",
   "execution_count": 405,
   "id": "7d59daec",
   "metadata": {},
   "outputs": [
    {
     "data": {
      "text/html": [
       "<div>\n",
       "<style scoped>\n",
       "    .dataframe tbody tr th:only-of-type {\n",
       "        vertical-align: middle;\n",
       "    }\n",
       "\n",
       "    .dataframe tbody tr th {\n",
       "        vertical-align: top;\n",
       "    }\n",
       "\n",
       "    .dataframe thead th {\n",
       "        text-align: right;\n",
       "    }\n",
       "</style>\n",
       "<table border=\"1\" class=\"dataframe\">\n",
       "  <thead>\n",
       "    <tr style=\"text-align: right;\">\n",
       "      <th></th>\n",
       "      <th>SeniorCitizen</th>\n",
       "      <th>tenure</th>\n",
       "      <th>MonthlyCharges</th>\n",
       "    </tr>\n",
       "  </thead>\n",
       "  <tbody>\n",
       "    <tr>\n",
       "      <th>count</th>\n",
       "      <td>7043.000000</td>\n",
       "      <td>7043.000000</td>\n",
       "      <td>7043.000000</td>\n",
       "    </tr>\n",
       "    <tr>\n",
       "      <th>mean</th>\n",
       "      <td>0.162147</td>\n",
       "      <td>32.371149</td>\n",
       "      <td>64.761692</td>\n",
       "    </tr>\n",
       "    <tr>\n",
       "      <th>std</th>\n",
       "      <td>0.368612</td>\n",
       "      <td>24.559481</td>\n",
       "      <td>30.090047</td>\n",
       "    </tr>\n",
       "    <tr>\n",
       "      <th>min</th>\n",
       "      <td>0.000000</td>\n",
       "      <td>0.000000</td>\n",
       "      <td>18.250000</td>\n",
       "    </tr>\n",
       "    <tr>\n",
       "      <th>25%</th>\n",
       "      <td>0.000000</td>\n",
       "      <td>9.000000</td>\n",
       "      <td>35.500000</td>\n",
       "    </tr>\n",
       "    <tr>\n",
       "      <th>50%</th>\n",
       "      <td>0.000000</td>\n",
       "      <td>29.000000</td>\n",
       "      <td>70.350000</td>\n",
       "    </tr>\n",
       "    <tr>\n",
       "      <th>75%</th>\n",
       "      <td>0.000000</td>\n",
       "      <td>55.000000</td>\n",
       "      <td>89.850000</td>\n",
       "    </tr>\n",
       "    <tr>\n",
       "      <th>max</th>\n",
       "      <td>1.000000</td>\n",
       "      <td>72.000000</td>\n",
       "      <td>118.750000</td>\n",
       "    </tr>\n",
       "  </tbody>\n",
       "</table>\n",
       "</div>"
      ],
      "text/plain": [
       "       SeniorCitizen       tenure  MonthlyCharges\n",
       "count    7043.000000  7043.000000     7043.000000\n",
       "mean        0.162147    32.371149       64.761692\n",
       "std         0.368612    24.559481       30.090047\n",
       "min         0.000000     0.000000       18.250000\n",
       "25%         0.000000     9.000000       35.500000\n",
       "50%         0.000000    29.000000       70.350000\n",
       "75%         0.000000    55.000000       89.850000\n",
       "max         1.000000    72.000000      118.750000"
      ]
     },
     "execution_count": 405,
     "metadata": {},
     "output_type": "execute_result"
    }
   ],
   "source": [
    "telco.describe()"
   ]
  },
  {
   "cell_type": "markdown",
   "id": "badbd3da",
   "metadata": {},
   "source": [
    "## Create Test Dataset"
   ]
  },
  {
   "cell_type": "code",
   "execution_count": 406,
   "id": "c7a54cc1",
   "metadata": {},
   "outputs": [],
   "source": [
    "from sklearn.model_selection import train_test_split\n",
    "import matplotlib.pyplot as plt\n",
    "\n",
    "telco_train, telco_test = train_test_split(telco, test_size=0.2, random_state=RND_SEED, stratify=telco[\"Churn\"])"
   ]
  },
  {
   "cell_type": "markdown",
   "id": "aa379636",
   "metadata": {},
   "source": [
    "## Cleaning Data"
   ]
  },
  {
   "cell_type": "code",
   "execution_count": 407,
   "id": "6766234c",
   "metadata": {},
   "outputs": [],
   "source": [
    "telco = telco_train.copy()"
   ]
  },
  {
   "cell_type": "markdown",
   "id": "c23d9352",
   "metadata": {},
   "source": [
    "Сначаал разберемся с колонкой TotalCharges - там флот, но где-то есть пустые строки."
   ]
  },
  {
   "cell_type": "code",
   "execution_count": 408,
   "id": "b8046b28",
   "metadata": {},
   "outputs": [
    {
     "data": {
      "text/plain": [
       "np.int64(0)"
      ]
     },
     "execution_count": 408,
     "metadata": {},
     "output_type": "execute_result"
    }
   ],
   "source": [
    "telco[\"TotalCharges\"] = pd.to_numeric(telco[\"TotalCharges\"], errors=\"coerce\")\n",
    "\n",
    "from sklearn.impute import SimpleImputer\n",
    "\n",
    "imputer = SimpleImputer(strategy=\"median\")\n",
    "telco[\"TotalCharges\"] = imputer.fit_transform(telco[[\"TotalCharges\"]])\n",
    "\n",
    "telco[\"TotalCharges\"].isna().sum()"
   ]
  },
  {
   "cell_type": "markdown",
   "id": "ca9faaf5",
   "metadata": {},
   "source": [
    "Преобразуем все строки с \"Yes/No\" к `int` \"1/0\"."
   ]
  },
  {
   "cell_type": "code",
   "execution_count": 409,
   "id": "27d76600",
   "metadata": {},
   "outputs": [],
   "source": [
    "bool_cols = [\"Partner\", \"Dependents\", \"PhoneService\", \"PaperlessBilling\", \"Churn\"]\n",
    "\n",
    "for col in bool_cols:\n",
    "    telco[col] = (telco[col] == \"Yes\").astype(\"int\")"
   ]
  },
  {
   "cell_type": "markdown",
   "id": "9fb6cdf7",
   "metadata": {},
   "source": [
    "Теперь разберемся с колонками где по три значения - да/нет/нет_сервиса. Я думаю надо третий вариант добавить в \"нет\" и закодировать LabelEncoding'ом."
   ]
  },
  {
   "cell_type": "code",
   "execution_count": 410,
   "id": "5462568e",
   "metadata": {},
   "outputs": [],
   "source": [
    "three_ans_cols = [\"MultipleLines\", \"OnlineSecurity\", \"OnlineBackup\", \"DeviceProtection\", \"TechSupport\", \"StreamingTV\", \"StreamingMovies\"]\n",
    "\n",
    "for col in three_ans_cols:\n",
    "    telco[col] = (telco[col] == \"Yes\").astype(\"int\")"
   ]
  },
  {
   "cell_type": "code",
   "execution_count": 411,
   "id": "ef46ffe3",
   "metadata": {},
   "outputs": [],
   "source": [
    "telco.drop(columns=\"customerID\", inplace=True)"
   ]
  },
  {
   "cell_type": "code",
   "execution_count": 412,
   "id": "21d797cf",
   "metadata": {},
   "outputs": [
    {
     "data": {
      "text/plain": [
       "gender\n",
       "1    2833\n",
       "0    2801\n",
       "Name: count, dtype: int64"
      ]
     },
     "execution_count": 412,
     "metadata": {},
     "output_type": "execute_result"
    }
   ],
   "source": [
    "from sklearn.preprocessing import LabelEncoder\n",
    "\n",
    "label_enc = LabelEncoder()\n",
    "telco[\"gender\"] = label_enc.fit_transform(telco[\"gender\"])\n",
    "\n",
    "telco[\"gender\"].value_counts()"
   ]
  },
  {
   "cell_type": "markdown",
   "id": "b9a2a394",
   "metadata": {},
   "source": [
    "### OneHotEncoding"
   ]
  },
  {
   "cell_type": "code",
   "execution_count": 413,
   "id": "00e621ae",
   "metadata": {},
   "outputs": [],
   "source": [
    "from sklearn.preprocessing import OneHotEncoder\n",
    "\n",
    "cat_columns = [\"InternetService\", \"PaymentMethod\", \"Contract\"]\n",
    "\n",
    "ohe = OneHotEncoder(sparse_output=False, dtype=\"int\")\n",
    "ohe.fit(telco[cat_columns])\n",
    "telco_internet_encoded = pd.DataFrame(ohe.transform(telco[cat_columns]), columns=ohe.get_feature_names_out(), index=telco.index)"
   ]
  },
  {
   "cell_type": "code",
   "execution_count": 414,
   "id": "4401aae8",
   "metadata": {},
   "outputs": [],
   "source": [
    "telco = pd.concat([telco, telco_internet_encoded], axis=1)\n",
    "telco.drop(columns=cat_columns, inplace=True)"
   ]
  },
  {
   "cell_type": "code",
   "execution_count": 415,
   "id": "8206d72a",
   "metadata": {},
   "outputs": [
    {
     "name": "stdout",
     "output_type": "stream",
     "text": [
      "<class 'pandas.core.frame.DataFrame'>\n",
      "Index: 5634 entries, 3738 to 5639\n",
      "Data columns (total 27 columns):\n",
      " #   Column                                   Non-Null Count  Dtype  \n",
      "---  ------                                   --------------  -----  \n",
      " 0   gender                                   5634 non-null   int64  \n",
      " 1   SeniorCitizen                            5634 non-null   int64  \n",
      " 2   Partner                                  5634 non-null   int64  \n",
      " 3   Dependents                               5634 non-null   int64  \n",
      " 4   tenure                                   5634 non-null   int64  \n",
      " 5   PhoneService                             5634 non-null   int64  \n",
      " 6   MultipleLines                            5634 non-null   int64  \n",
      " 7   OnlineSecurity                           5634 non-null   int64  \n",
      " 8   OnlineBackup                             5634 non-null   int64  \n",
      " 9   DeviceProtection                         5634 non-null   int64  \n",
      " 10  TechSupport                              5634 non-null   int64  \n",
      " 11  StreamingTV                              5634 non-null   int64  \n",
      " 12  StreamingMovies                          5634 non-null   int64  \n",
      " 13  PaperlessBilling                         5634 non-null   int64  \n",
      " 14  MonthlyCharges                           5634 non-null   float64\n",
      " 15  TotalCharges                             5634 non-null   float64\n",
      " 16  Churn                                    5634 non-null   int64  \n",
      " 17  InternetService_DSL                      5634 non-null   int64  \n",
      " 18  InternetService_Fiber optic              5634 non-null   int64  \n",
      " 19  InternetService_No                       5634 non-null   int64  \n",
      " 20  PaymentMethod_Bank transfer (automatic)  5634 non-null   int64  \n",
      " 21  PaymentMethod_Credit card (automatic)    5634 non-null   int64  \n",
      " 22  PaymentMethod_Electronic check           5634 non-null   int64  \n",
      " 23  PaymentMethod_Mailed check               5634 non-null   int64  \n",
      " 24  Contract_Month-to-month                  5634 non-null   int64  \n",
      " 25  Contract_One year                        5634 non-null   int64  \n",
      " 26  Contract_Two year                        5634 non-null   int64  \n",
      "dtypes: float64(2), int64(25)\n",
      "memory usage: 1.2 MB\n"
     ]
    }
   ],
   "source": [
    "telco.info()"
   ]
  },
  {
   "cell_type": "markdown",
   "id": "8df94f24",
   "metadata": {},
   "source": [
    "Еееей, хотябы щас все типы выглядят адекватно и можно приступить к визуализации всякой всячины."
   ]
  },
  {
   "cell_type": "markdown",
   "id": "ffd26bb0",
   "metadata": {},
   "source": [
    "## Visualize"
   ]
  },
  {
   "cell_type": "markdown",
   "id": "83255377",
   "metadata": {},
   "source": [
    "Посмотрим на корреляции с таргетом."
   ]
  },
  {
   "cell_type": "code",
   "execution_count": 417,
   "id": "85fc0220",
   "metadata": {},
   "outputs": [
    {
     "data": {
      "text/plain": [
       "Churn                                      1.000000\n",
       "Contract_Month-to-month                    0.406401\n",
       "InternetService_Fiber optic                0.312656\n",
       "PaymentMethod_Electronic check             0.309214\n",
       "MonthlyCharges                             0.198040\n",
       "PaperlessBilling                           0.197981\n",
       "SeniorCitizen                              0.145599\n",
       "StreamingTV                                0.072397\n",
       "StreamingMovies                            0.063786\n",
       "MultipleLines                              0.043766\n",
       "PhoneService                               0.017928\n",
       "gender                                    -0.002208\n",
       "DeviceProtection                          -0.061624\n",
       "OnlineBackup                              -0.082428\n",
       "PaymentMethod_Mailed check                -0.089311\n",
       "PaymentMethod_Bank transfer (automatic)   -0.125121\n",
       "InternetService_DSL                       -0.128639\n",
       "PaymentMethod_Credit card (automatic)     -0.137780\n",
       "Partner                                   -0.145717\n",
       "TechSupport                               -0.165723\n",
       "Dependents                                -0.167459\n",
       "OnlineSecurity                            -0.174581\n",
       "Contract_One year                         -0.179467\n",
       "TotalCharges                              -0.194403\n",
       "InternetService_No                        -0.228929\n",
       "Contract_Two year                         -0.302209\n",
       "tenure                                    -0.345593\n",
       "Name: Churn, dtype: float64"
      ]
     },
     "execution_count": 417,
     "metadata": {},
     "output_type": "execute_result"
    }
   ],
   "source": [
    "telco.corr()[\"Churn\"].sort_values(ascending=False)"
   ]
  },
  {
   "cell_type": "markdown",
   "id": "f8e0a22e",
   "metadata": {},
   "source": [
    "## Preprocessing Pipeline"
   ]
  },
  {
   "cell_type": "code",
   "execution_count": null,
   "id": "b2ee207f",
   "metadata": {},
   "outputs": [],
   "source": [
    "from sklearn.pipeline import Pipeline, make_pipeline\n",
    "from sklearn.compose import ColumnTransformer, make_column_selector\n",
    "\n",
    "preprocessing = ColumnTransformer([\n",
    "    (\"\")\n",
    "])"
   ]
  }
 ],
 "metadata": {
  "kernelspec": {
   "display_name": ".venv",
   "language": "python",
   "name": "python3"
  },
  "language_info": {
   "codemirror_mode": {
    "name": "ipython",
    "version": 3
   },
   "file_extension": ".py",
   "mimetype": "text/x-python",
   "name": "python",
   "nbconvert_exporter": "python",
   "pygments_lexer": "ipython3",
   "version": "3.13.3"
  }
 },
 "nbformat": 4,
 "nbformat_minor": 5
}

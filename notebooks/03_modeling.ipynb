{
 "cells": [
  {
   "cell_type": "markdown",
   "id": "814b491d",
   "metadata": {},
   "source": [
    "**Imports**"
   ]
  },
  {
   "cell_type": "code",
   "execution_count": 1,
   "id": "f54ed47e",
   "metadata": {},
   "outputs": [],
   "source": [
    "from sklearn.model_selection import cross_val_score\n",
    "from sklearn.pipeline import make_pipeline, Pipeline\n",
    "from sklearn.dummy import DummyClassifier\n",
    "from sklearn.metrics import f1_score, classification_report, confusion_matrix, precision_score, recall_score, roc_auc_score\n",
    "import pandas as pd\n",
    "import sys\n",
    "\n",
    "sys.path.append('C:\\\\Coding\\\\customer-churn-prediction\\\\src')\n",
    "from utils import download_telco_churn_dataset, split_test_train\n",
    "from preprocessing import get_preproc\n",
    "\n",
    "RND_SEED = 42"
   ]
  },
  {
   "cell_type": "markdown",
   "id": "0a9a12d8",
   "metadata": {},
   "source": [
    "**Getting Preprocessing and Data**"
   ]
  },
  {
   "cell_type": "code",
   "execution_count": 2,
   "id": "4902f1dc",
   "metadata": {},
   "outputs": [],
   "source": [
    "telco = pd.read_csv(\"../data/raw/WA_Fn-UseC_-Telco-Customer-Churn.csv\")\n",
    "X_train, X_test, y_train, y_test = split_test_train(telco)\n",
    "\n",
    "preprocessing = get_preproc()"
   ]
  },
  {
   "cell_type": "markdown",
   "id": "4b260894",
   "metadata": {},
   "source": [
    "# Models"
   ]
  },
  {
   "cell_type": "markdown",
   "id": "b0525d86",
   "metadata": {},
   "source": [
    "**Help Function**\n",
    "\n",
    "Функция для оценки различных моделей на тестовой и тернировочных данных."
   ]
  },
  {
   "cell_type": "code",
   "execution_count": 3,
   "id": "a71fc4e5",
   "metadata": {},
   "outputs": [],
   "source": [
    "from sklearn.utils import class_weight\n",
    "\n",
    "def fit_and_evaluate(models, cv=10):\n",
    "    # Крафтим пайплайны для каждой модели\n",
    "    pipelines = {}\n",
    "\n",
    "    for name, model in models:\n",
    "        pipelines[name] = (Pipeline([\n",
    "            (\"preproc\", preprocessing),\n",
    "            (\"model\", model)\n",
    "        ]))\n",
    "        \n",
    "    metrics = {}\n",
    "\n",
    "    # Оценивать модели будем по f1 score, но важна нам именно метрика recall для положительного класса\n",
    "    for name, model in pipelines.items():\n",
    "        # Исправляем дисбаланс классов\n",
    "        classes_weights = class_weight.compute_sample_weight(\n",
    "            class_weight='balanced',\n",
    "            y=y_train\n",
    "        )\n",
    "        model.fit(X_train, y_train, model__sample_weight=classes_weights)\n",
    "        \n",
    "        # Predictions on test and train\n",
    "        print(\"\\n\" + f\"Оценка {name}:\")\n",
    "        \n",
    "        roc_auc_train = cross_val_score(\n",
    "            model, X_test, y_test, scoring='roc_auc', cv=cv, n_jobs=-1).mean()\n",
    "        \n",
    "        print(f\"TRAIN ROC-AUC: {roc_auc_train}\")\n",
    "        y_pred_test = model.predict(X_test)\n",
    "\n",
    "        # Metrics evaluating\n",
    "        roc_auc_test = roc_auc_score(y_test, y_pred_test)\n",
    "        print(f\"TEST ROC-AUC: {roc_auc_test}\")\n",
    "\n",
    "        # Confusion Matrix\n",
    "        print(\"\\n\" + \"🔍 МАТРИЦА ОШИБОК:\")\n",
    "        cm = confusion_matrix(y_test, y_pred_test)\n",
    "        cm_df = pd.DataFrame(cm,\n",
    "                             index=['Факт: 0', 'Факт: 1'],\n",
    "                             columns=['Прогноз: 0', 'Прогноз: 1'])\n",
    "        print(cm_df)\n",
    "        \n",
    "        metrics[name] = {\n",
    "            'roc_auc_test': roc_auc_test,\n",
    "            'roc_auc_train': roc_auc_train,\n",
    "            'TP': cm[1][1],\n",
    "            'FN': cm[1][0],\n",
    "        }\n",
    "    \n",
    "    sorted_metrics = dict(sorted(metrics.items(), key=lambda item: -item[1]['roc_auc_train']))\n",
    "    \n",
    "    print(f\"ТОП МОДЕЛЕЙ:\")\n",
    "    for name, metric in sorted_metrics.items():\n",
    "        print(\"\\n\" + f\"{name} : {metric['roc_auc_train']}\")"
   ]
  },
  {
   "cell_type": "markdown",
   "id": "bbe7755b",
   "metadata": {},
   "source": [
    "## Models Comparation"
   ]
  },
  {
   "cell_type": "code",
   "execution_count": 4,
   "id": "b0193fd8",
   "metadata": {},
   "outputs": [],
   "source": [
    "from sklearn.linear_model import LogisticRegression\n",
    "from sklearn.ensemble import GradientBoostingClassifier, RandomForestClassifier\n",
    "from xgboost import XGBClassifier\n",
    "from sklearn.svm import LinearSVC\n",
    "from sklearn.svm import SVC\n",
    "from lightgbm import LGBMClassifier\n",
    "\n",
    "lgbm = LGBMClassifier(\n",
    "    class_weight='balanced',\n",
    "    random_state=RND_SEED,\n",
    "    n_estimators=100\n",
    ")\n",
    "\n",
    "lr = LogisticRegression(random_state=RND_SEED, penalty='l2')\n",
    "\n",
    "lin_svc = LinearSVC(C=1, random_state=RND_SEED)\n",
    "\n",
    "gb = GradientBoostingClassifier(random_state=RND_SEED)\n",
    "\n",
    "svc = SVC(C=1, random_state=RND_SEED)\n",
    "\n",
    "rnd_forest = RandomForestClassifier(random_state=RND_SEED, n_jobs=-1)\n",
    "\n",
    "xgb = XGBClassifier(random_state=RND_SEED, n_jobs=-1)\n",
    "\n",
    "models = [\n",
    "    (\"Logistic Regression L2\", lr),\n",
    "    (\"LightGBM\", lgbm),\n",
    "    (\"RND Forest\", rnd_forest),\n",
    "    (\"XGB Classifier\", xgb),\n",
    "    (\"Gradient Boosting\", gb),\n",
    "    (\"Linear SVC\", lin_svc),\n",
    "    (\"SVC\", svc),\n",
    "]"
   ]
  },
  {
   "cell_type": "code",
   "execution_count": 5,
   "id": "f0fc5752",
   "metadata": {},
   "outputs": [
    {
     "name": "stdout",
     "output_type": "stream",
     "text": [
      "\n",
      "Оценка Logistic Regression L2:\n",
      "TRAIN ROC-AUC: 0.8386088188144907\n",
      "TEST ROC-AUC: 0.7583778966131908\n",
      "\n",
      "🔍 МАТРИЦА ОШИБОК:\n",
      "         Прогноз: 0  Прогноз: 1\n",
      "Факт: 0         759         276\n",
      "Факт: 1          81         293\n",
      "[LightGBM] [Info] Number of positive: 1495, number of negative: 4139\n",
      "[LightGBM] [Info] Auto-choosing row-wise multi-threading, the overhead of testing was 0.000455 seconds.\n",
      "You can set `force_row_wise=true` to remove the overhead.\n",
      "And if memory is not enough, you can set `force_col_wise=true`.\n",
      "[LightGBM] [Info] Total Bins 887\n",
      "[LightGBM] [Info] Number of data points in the train set: 5634, number of used features: 28\n",
      "[LightGBM] [Info] [binary:BoostFromScore]: pavg=0.734647 -> initscore=1.018328\n",
      "[LightGBM] [Info] Start training from score 1.018328\n",
      "\n",
      "Оценка LightGBM:\n",
      "TRAIN ROC-AUC: 0.8099076480080569\n",
      "TEST ROC-AUC: 0.7435699708078225\n",
      "\n",
      "🔍 МАТРИЦА ОШИБОК:\n",
      "         Прогноз: 0  Прогноз: 1\n",
      "Факт: 0         673         362\n",
      "Факт: 1          61         313\n"
     ]
    },
    {
     "name": "stderr",
     "output_type": "stream",
     "text": [
      "c:\\Coding\\customer-churn-prediction\\.venv\\Lib\\site-packages\\sklearn\\utils\\validation.py:2749: UserWarning: X does not have valid feature names, but LGBMClassifier was fitted with feature names\n",
      "  warnings.warn(\n"
     ]
    },
    {
     "name": "stdout",
     "output_type": "stream",
     "text": [
      "\n",
      "Оценка RND Forest:\n",
      "TRAIN ROC-AUC: 0.8132436323257733\n",
      "TEST ROC-AUC: 0.6863894701490608\n",
      "\n",
      "🔍 МАТРИЦА ОШИБОК:\n",
      "         Прогноз: 0  Прогноз: 1\n",
      "Факт: 0         931         104\n",
      "Факт: 1         197         177\n",
      "\n",
      "Оценка XGB Classifier:\n",
      "TRAIN ROC-AUC: 0.7980948500876963\n",
      "TEST ROC-AUC: 0.7445826551964659\n",
      "\n",
      "🔍 МАТРИЦА ОШИБОК:\n",
      "         Прогноз: 0  Прогноз: 1\n",
      "Факт: 0         819         216\n",
      "Факт: 1         113         261\n",
      "\n",
      "Оценка Gradient Boosting:\n",
      "TRAIN ROC-AUC: 0.821506052158837\n",
      "TEST ROC-AUC: 0.756816244284275\n",
      "\n",
      "🔍 МАТРИЦА ОШИБОК:\n",
      "         Прогноз: 0  Прогноз: 1\n",
      "Факт: 0         753         282\n",
      "Факт: 1          80         294\n",
      "\n",
      "Оценка Linear SVC:\n",
      "TRAIN ROC-AUC: 0.835851418810029\n",
      "TEST ROC-AUC: 0.7541424474928311\n",
      "\n",
      "🔍 МАТРИЦА ОШИБОК:\n",
      "         Прогноз: 0  Прогноз: 1\n",
      "Факт: 0         753         282\n",
      "Факт: 1          82         292\n",
      "\n",
      "Оценка SVC:\n",
      "TRAIN ROC-AUC: 0.7941406694025498\n",
      "TEST ROC-AUC: 0.7651411816373455\n",
      "\n",
      "🔍 МАТРИЦА ОШИБОК:\n",
      "         Прогноз: 0  Прогноз: 1\n",
      "Факт: 0         773         262\n",
      "Факт: 1          81         293\n",
      "ТОП МОДЕЛЕЙ:\n",
      "\n",
      "Logistic Regression L2 : 0.8386088188144907\n",
      "\n",
      "Linear SVC : 0.835851418810029\n",
      "\n",
      "Gradient Boosting : 0.821506052158837\n",
      "\n",
      "RND Forest : 0.8132436323257733\n",
      "\n",
      "LightGBM : 0.8099076480080569\n",
      "\n",
      "XGB Classifier : 0.7980948500876963\n",
      "\n",
      "SVC : 0.7941406694025498\n"
     ]
    }
   ],
   "source": [
    "fit_and_evaluate(models)"
   ]
  },
  {
   "cell_type": "markdown",
   "id": "44c46b27",
   "metadata": {},
   "source": [
    "Непосредственно в этой задаче мне важен `Recall` на положительном класса, то есть процент верно определенных `Churn`."
   ]
  },
  {
   "cell_type": "markdown",
   "id": "c670839d",
   "metadata": {},
   "source": [
    "## LR L2 + LightGBM"
   ]
  }
 ],
 "metadata": {
  "kernelspec": {
   "display_name": ".venv",
   "language": "python",
   "name": "python3"
  },
  "language_info": {
   "codemirror_mode": {
    "name": "ipython",
    "version": 3
   },
   "file_extension": ".py",
   "mimetype": "text/x-python",
   "name": "python",
   "nbconvert_exporter": "python",
   "pygments_lexer": "ipython3",
   "version": "3.13.7"
  }
 },
 "nbformat": 4,
 "nbformat_minor": 5
}
